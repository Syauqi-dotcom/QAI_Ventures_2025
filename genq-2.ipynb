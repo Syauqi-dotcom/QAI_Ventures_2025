{
 "cells": [
  {
   "cell_type": "code",
   "execution_count": 1,
   "id": "caf6d414",
   "metadata": {},
   "outputs": [],
   "source": [
    "import pandas as pd\n",
    "import numpy as np\n",
    "from qiskit.circuit import Parameter, ParameterVector, QuantumCircuit\n",
    "from qiskit.circuit.library import unitary_overlap\n",
    "\n",
    "# To use a simulator\n",
    "from qiskit.primitives import StatevectorSampler\n",
    "\n",
    "# import a support vector classifier from a classical ML package.\n",
    "from sklearn.svm import SVC\n"
   ]
  },
  {
   "cell_type": "code",
   "execution_count": 2,
   "id": "20f6e6a2",
   "metadata": {},
   "outputs": [],
   "source": [
    "df = pd.read_csv(\"dataset_graph7.csv\", sep=\",\", header=None)\n",
    " \n",
    "# Prepare training data\n",
    " \n",
    "train_size = 90\n",
    "X_train = df.values[0:train_size, :-1]\n",
    "train_labels = df.values[0:train_size, -1]\n",
    " \n",
    "# Prepare testing data\n",
    "test_size = 30\n",
    "X_test = df.values[train_size : train_size + test_size, :-1]\n",
    "test_labels = df.values[train_size : train_size + test_size, -1]"
   ]
  },
  {
   "cell_type": "code",
   "execution_count": 3,
   "id": "8d9c8dd1",
   "metadata": {},
   "outputs": [],
   "source": [
    "# Empty kernel matrix\n",
    "num_samples = np.shape(X_train)[0]\n",
    "kernel_matrix = np.full((num_samples, num_samples), np.nan)\n",
    "test_matrix = np.full((test_size, num_samples), np.nan)"
   ]
  },
  {
   "cell_type": "code",
   "execution_count": 4,
   "id": "4c085fd6",
   "metadata": {},
   "outputs": [],
   "source": [
    " \n",
    "# Prepare feature map for computing overlap\n",
    "num_features = np.shape(X_train)[1]\n",
    "num_qubits = int(num_features / 2)\n",
    " \n",
    "# To use a custom feature map use the lines below.\n",
    "entangler_map = [[0, 2], [3, 4], [2, 5], [1, 4], [2, 3], [4, 6]]\n",
    " \n",
    "fm = QuantumCircuit(num_qubits)\n",
    "training_param = Parameter(\"θ\")\n",
    "feature_params = ParameterVector(\"x\", num_qubits * 2)\n",
    "fm.ry(training_param, fm.qubits)\n",
    "for cz in entangler_map:\n",
    "    fm.cz(cz[0], cz[1])\n",
    "for i in range(num_qubits):\n",
    "    fm.rz(-2 * feature_params[2 * i + 1], i)\n",
    "    fm.rx(-2 * feature_params[2 * i], i)"
   ]
  },
  {
   "cell_type": "code",
   "execution_count": 8,
   "id": "c769450b",
   "metadata": {},
   "outputs": [
    {
     "name": "stdout",
     "output_type": "stream",
     "text": [
      "training done\n",
      "[[1.     0.6215 0.9521 ... 0.2704 0.8992 0.366 ]\n",
      " [0.6215 1.     0.5434 ... 0.3709 0.5437 0.6262]\n",
      " [0.9521 0.5434 1.     ... 0.3054 0.8068 0.3952]\n",
      " ...\n",
      " [0.2704 0.3709 0.3054 ... 1.     0.2009 0.6967]\n",
      " [0.8992 0.5437 0.8068 ... 0.2009 1.     0.2627]\n",
      " [0.366  0.6262 0.3952 ... 0.6967 0.2627 1.    ]]\n",
      "test matrix done\n"
     ]
    }
   ],
   "source": [
    "\n",
    " \n",
    "# Remember to insert your token in the QiskitRuntimeService constructor to use real quantum computers\n",
    "# service = QiskitRuntimeService()\n",
    "# backend = service.least_busy(\n",
    "#    operational=True, simulator=False, min_num_qubits=fm.num_qubits\n",
    "# )\n",
    " \n",
    "num_shots = 10000\n",
    " \n",
    "# Evaluate the problem using state vector-based primitives from Qiskit.\n",
    "sampler = StatevectorSampler()\n",
    " \n",
    "for x1 in range(0, train_size):\n",
    "    for x2 in range(x1 + 1, train_size):\n",
    "        unitary1 = fm.assign_parameters(list(X_train[x1]) + [np.pi / 2])\n",
    "        unitary2 = fm.assign_parameters(list(X_train[x2]) + [np.pi / 2])\n",
    " \n",
    "        # Create the overlap circuit\n",
    "        overlap_circ = unitary_overlap(unitary1, unitary2)\n",
    "        overlap_circ.measure_all()\n",
    " \n",
    "        # These lines run the qiskit sampler primitive.\n",
    "        counts = (\n",
    "            sampler.run([overlap_circ], shots=num_shots)\n",
    "            .result()[0]\n",
    "            .data.meas.get_int_counts()\n",
    "        )\n",
    " \n",
    "        # Assign the probability of the 0 state to the kernel matrix, and the transposed element (since this is an inner product)\n",
    "        kernel_matrix[x1, x2] = counts.get(0, 0.0) / num_shots\n",
    "        kernel_matrix[x2, x1] = counts.get(0, 0.0) / num_shots\n",
    "    # Fill in on-diagonal elements with 1, again, since this is an inner-product corresponding to probability (or alter the code to check these entries and verify they yield 1)\n",
    "    kernel_matrix[x1, x1] = 1\n",
    " \n",
    "print(\"training done\")\n",
    " \n",
    "# Similar process to above, but for testing data.\n",
    "for x1 in range(0, test_size):\n",
    "    for x2 in range(0, train_size):\n",
    "        unitary1 = fm.assign_parameters(list(X_test[x1]) + [np.pi / 2])\n",
    "        unitary2 = fm.assign_parameters(list(X_train[x2]) + [np.pi / 2])\n",
    " \n",
    "        # Create the overlap circuit\n",
    "        overlap_circ = unitary_overlap(unitary1, unitary2)\n",
    "        overlap_circ.measure_all()\n",
    " \n",
    "        counts = (\n",
    "            sampler.run([overlap_circ], shots=num_shots)\n",
    "            .result()[0]\n",
    "            .data.meas.get_int_counts()\n",
    "        )\n",
    " \n",
    "        test_matrix[x1, x2] = counts.get(0, 0.0) / num_shots\n",
    "\n",
    "print(kernel_matrix)\n",
    "\n",
    "print(\"test matrix done\")"
   ]
  },
  {
   "cell_type": "code",
   "execution_count": 6,
   "id": "12f3cf25",
   "metadata": {},
   "outputs": [],
   "source": [
    "\n",
    "# Specify that you want to use a pre-computed kernel matrix\n",
    "qml_svc = SVC(kernel=\"precomputed\")"
   ]
  },
  {
   "cell_type": "code",
   "execution_count": 7,
   "id": "5eaa96c8",
   "metadata": {},
   "outputs": [
    {
     "name": "stdout",
     "output_type": "stream",
     "text": [
      "Precomputed kernel classification test score: 1.0\n"
     ]
    }
   ],
   "source": [
    "# Feed in the pre-computed matrix and the labels of the training data. The classical algorithm gives you a fit.\n",
    "qml_svc.fit(kernel_matrix, train_labels)\n",
    " \n",
    "# Now use the .score to test your data, using the matrix of test data, and test labels as your inputs.\n",
    "qml_score_precomputed_kernel = qml_svc.score(test_matrix, test_labels)\n",
    "print(f\"Precomputed kernel classification test score: {qml_score_precomputed_kernel}\")"
   ]
  },
  {
   "cell_type": "code",
   "execution_count": null,
   "id": "f80c7364",
   "metadata": {},
   "outputs": [],
   "source": []
  },
  {
   "cell_type": "code",
   "execution_count": null,
   "id": "75c66f6f",
   "metadata": {},
   "outputs": [],
   "source": []
  }
 ],
 "metadata": {
  "kernelspec": {
   "display_name": "venv",
   "language": "python",
   "name": "python3"
  },
  "language_info": {
   "codemirror_mode": {
    "name": "ipython",
    "version": 3
   },
   "file_extension": ".py",
   "mimetype": "text/x-python",
   "name": "python",
   "nbconvert_exporter": "python",
   "pygments_lexer": "ipython3",
   "version": "3.12.3"
  }
 },
 "nbformat": 4,
 "nbformat_minor": 5
}
